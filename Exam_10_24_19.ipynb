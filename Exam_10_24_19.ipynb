{
 "cells": [
  {
   "cell_type": "markdown",
   "metadata": {},
   "source": [
    "#### 1. Linear regression is a supervised machine learning algorithm - True or False?\n",
    "My answer: True"
   ]
  },
  {
   "cell_type": "markdown",
   "metadata": {},
   "source": [
    "#### 2. Which method do we use to find the best fit for data in linear regression?\n",
    "- a) Least Square Error\n",
    "- b) Maximum Likelihood\n",
    "- c) Logarithmic Loss\n",
    "- d) Both a) and b)\n",
    "\n",
    "My answer: d)  [but usually a]"
   ]
  },
  {
   "cell_type": "markdown",
   "metadata": {},
   "source": [
    "#### 3. Which of the following is True for residuals?\n",
    "- a) Lower is better\n",
    "- b) Higher is better\n",
    "- c) a) or b), depending on the situation\n",
    "- d) None of these\n",
    "\n",
    "My answer: a)"
   ]
  },
  {
   "cell_type": "markdown",
   "metadata": {},
   "source": [
    "#### 4. What will happen when you fit a degree 2 polinomial in linear regression?\n",
    "My answer: You can fit a quadratic curve to the data, i.e. you can check for both a linear and a quadratic relationship between predictor and predicted variable."
   ]
  },
  {
   "cell_type": "markdown",
   "metadata": {},
   "source": [
    "#### 5. Is it possible to design a linear regression algorithm using a neural network? - True or False\n",
    "My answer: True"
   ]
  },
  {
   "cell_type": "markdown",
   "metadata": {},
   "source": [
    "#### 6. Which of the following evaluation metrics can be used to evaluate a model while modeling a continuous output variable?\n",
    "- a) AUC-ROC\n",
    "- b) Accuracy\n",
    "- c) Log Loss\n",
    "- d) Mean Square Error\n",
    "\n",
    "My answer: d)"
   ]
  },
  {
   "cell_type": "markdown",
   "metadata": {},
   "source": [
    "#### 7. Which of the following statements is true about outliers in linear regression?\n",
    "- a) LR is sensitive to outliers\n",
    "- b) LR is not sensitive to outliers\n",
    "- c) can't say\n",
    "- d) none of those\n",
    "\n",
    "My answer: c) since it depends where the outliers are (in the explanatory variable - yes, sensitive; in the predicted variable - only if it's in an area where it has high leverage, i.e. where also the x-value is an outlier)"
   ]
  },
  {
   "cell_type": "markdown",
   "metadata": {},
   "source": [
    "#### 8. Suppose you plotted a scatter plot between the residuals and predicted values in LR and you found that there's a relationship between them. What does that mean?\n",
    "- a) since there is a relationship, the model is not good\n",
    "- b) since there is a relationship, the model is good\n",
    "- c) can't say\n",
    "- d) none of those\n",
    "\n",
    "My answer: a)"
   ]
  },
  {
   "cell_type": "markdown",
   "metadata": {},
   "source": [
    "#### 9. Suppose we have N independent variables (x1, x2, x3, ..., xn) and dependent variable is y. Imagine we are applying LR by fitting the best fit line using Least Square Error on this data. We found that the correlation coefficient for one of its variables, say x1, with y is 0,95. Which for the following is true for x1?\n",
    "- a) relation between x and y is weak\n",
    "- b) relation between x and y is strong\n",
    "- c) relation between x and y is neutral\n",
    "- d) correlation cannot judge the relation\n",
    "\n",
    "My anwer: b)"
   ]
  },
  {
   "cell_type": "markdown",
   "metadata": {},
   "source": [
    "#### 10. Suppose you have a data set D1 and you design a LR model of degree 3 polynomial and we found that the training and testing error is zero - or in other terms: it perfectly fits the data. What will happen when we fit a degree 4 polinomial in LR?\n",
    "- a) high chances that degree 4 polynomial will overfit the data\n",
    "- b) high chances that degree 4 polynomial will underfit the data\n",
    "- c) can't say\n",
    "- d) none of these\n",
    "\n",
    "My answer: a)"
   ]
  }
 ],
 "metadata": {
  "kernelspec": {
   "display_name": "Python [conda env:nf] *",
   "language": "python",
   "name": "conda-env-nf-py"
  },
  "language_info": {
   "codemirror_mode": {
    "name": "ipython",
    "version": 3
   },
   "file_extension": ".py",
   "mimetype": "text/x-python",
   "name": "python",
   "nbconvert_exporter": "python",
   "pygments_lexer": "ipython3",
   "version": "3.6.6"
  }
 },
 "nbformat": 4,
 "nbformat_minor": 2
}
